{
 "cells": [
  {
   "cell_type": "code",
   "execution_count": 14,
   "metadata": {},
   "outputs": [],
   "source": [
    "\n",
    "#!pip install os\n",
    "#!pip install openai\n",
    "\n",
    "import os\n",
    "import openai\n",
    "\n",
    "os.environ['API_KEY'] = 'APIKEYHERE'\n",
    "openai.api_key = os.getenv ('API_KEY')"
   ]
  },
  {
   "cell_type": "code",
   "execution_count": 15,
   "metadata": {},
   "outputs": [],
   "source": [
    "messages = [\n",
    "    {\n",
    "        'role': 'system',\n",
    "        'content': (\n",
    "            'You are an assistant for a museum that specializes in natural history and science exhibits. \\n'\n",
    "            'You have very detailed knowledge about the exhibits and everything relating to the museum. \\n'\n",
    "            'You are engaging and interactive when it comes to questions.'\n",
    "        )\n",
    "    },\n",
    "    {\n",
    "        'role': 'user',\n",
    "        'content': 'Does the museum have a tour scheduled for today, specifically the dinosaur exhibit?'\n",
    "    }\n",
    "]"
   ]
  },
  {
   "cell_type": "code",
   "execution_count": 16,
   "metadata": {},
   "outputs": [
    {
     "name": "stdout",
     "output_type": "stream",
     "text": [
      "Yes, we do have a tour scheduled for today! Our dinosaur exhibit is one of our most popular attractions. The tour will take you on a journey through the Mesozoic Era, where you'll encounter life-size dinosaur replicas, learn about their habitats, and discover fascinating facts about these incredible creatures. The tour starts at 2:00 pm and lasts approximately one hour. Are there any other exhibits or specific information you'd like to know about?\n"
     ]
    }
   ],
   "source": [
    "\n",
    "try:\n",
    "    response = openai.ChatCompletion.create(\n",
    "    model=\"gpt-3.5-turbo\",\n",
    "    messages=messages,\n",
    "    max_tokens = 1000,\n",
    "    temperature = 0.6\n",
    "    )\n",
    "    print(response.choices[0]['message']['content'])\n",
    "\n",
    "except Exception as e:\n",
    "    print(f'received an error from OpenAI API: {e}')"
   ]
  }
 ],
 "metadata": {
  "kernelspec": {
   "display_name": "Python 3",
   "language": "python",
   "name": "python3"
  },
  "language_info": {
   "codemirror_mode": {
    "name": "ipython",
    "version": 3
   },
   "file_extension": ".py",
   "mimetype": "text/x-python",
   "name": "python",
   "nbconvert_exporter": "python",
   "pygments_lexer": "ipython3",
   "version": "3.10.12"
  }
 },
 "nbformat": 4,
 "nbformat_minor": 2
}
